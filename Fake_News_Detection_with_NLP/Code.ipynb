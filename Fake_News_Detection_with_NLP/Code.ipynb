Create New API Token to download the kaggle.json file.

Upload the Kaggle API token to Colab:
from google.colab import files
files.upload()

Create a Kaggle config directory and copy the file:
!mkdir -p ~/.kaggle
!cp kaggle.json ~/.kaggle/
!chmod 600 ~/.kaggle/kaggle.json

Step 2: Download the Dataset
Once the API is set up, you can download the dataset using the following command:
!kaggle competitions download -c fake-news

Step 3: Unzip the Dataset
!unzip fake-news.zip

Dataset
The dataset used for this project can be downloaded from Kaggle using the steps mentioned above. Ensure that you have the train.csv file in your working directory.

Model Training
We will use the following code to train the Fake News Detection model.
# Import necessary libraries
import pandas as pd
import numpy as np
from sklearn.model_selection import train_test_split
from sklearn.feature_extraction.text import TfidfVectorizer
from sklearn.linear_model import LogisticRegression
from sklearn.metrics import accuracy_score, confusion_matrix, classification_report

# Load the dataset
df = pd.read_csv('train.csv')

# View dataset structure
df.head()

# Drop missing values
df = df.dropna()

# Prepare labels (1 = Fake, 0 = Real)
df['label'] = df['label'].apply(lambda x: 1 if x == 1 else 0)

# Split data into training and testing sets
X_train, X_test, y_train, y_test = train_test_split(df['text'], df['label'], test_size=0.3, random_state=42)

# Use TfidfVectorizer to convert text into numeric features
tfidf = TfidfVectorizer(stop_words='english', max_df=0.7)

# Transform training and testing data
X_train_tfidf = tfidf.fit_transform(X_train)
X_test_tfidf = tfidf.transform(X_test)

# Build Logistic Regression Model
model = LogisticRegression()

# Train the model
model.fit(X_train_tfidf, y_train)

# Make predictions on test data
y_pred = model.predict(X_test_tfidf)


Model Evaluation
After training the model, we evaluate it using accuracy score, confusion matrix, and classification report.
# Evaluate the model
accuracy = accuracy_score(y_test, y_pred)
print(f"Accuracy: {accuracy:.4f}")
print("Confusion Matrix:\n", confusion_matrix(y_test, y_pred))
print("Classification Report:\n", classification_report(y_test, y_pred))

Saving the Model
The trained model and vectorizer are saved for future use:
import pickle

# Save the trained model
with open('model.pkl', 'wb') as file:
    pickle.dump(model, file)

# Save the TfidfVectorizer
with open('tfidf.pkl', 'wb') as file:
    pickle.dump(tfidf, file)



